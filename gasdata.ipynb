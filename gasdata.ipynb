{
 "cells": [
  {
   "cell_type": "markdown",
   "id": "f334a305-57c0-40b3-be22-d5a726ea19eb",
   "metadata": {},
   "source": [
    "# Gasdata Calc\n",
    "A simple demonstration of using [thermo](https://thermo.readthedocs.io/index.html) for gas processes.\n",
    "In this demonstartion we are using one of the highest APIs thermo provide.\n",
    "\n",
    "Thermo provides different equation of states. We use the orignal Peng Robinson EOS.\n",
    "\n",
    "For the demonstration were are using the gas data provided from [Stadtwerke Hameln Weserbergland](https://www.stwhw-netze.de/fileadmin/user_upload/Brennwerte_Gasanalyse_Hameln_2022.pdf) "
   ]
  },
  {
   "cell_type": "code",
   "execution_count": 30,
   "id": "c640e1ad-a333-4d67-8a66-6d78fd910f08",
   "metadata": {},
   "outputs": [],
   "source": [
    "# %pip install thermo\n",
    "from thermo import EquilibriumStream, ChemicalConstantsPackage, CEOSGas, CEOSLiquid, PRMIX, FlashVL\n",
    "from thermo.interaction_parameters import IPDB"
   ]
  },
  {
   "cell_type": "code",
   "execution_count": 31,
   "id": "101c3027-4e13-4dc2-bc0b-ccd4e6af16ed",
   "metadata": {},
   "outputs": [],
   "source": [
    "# Input Gas Data\n",
    "gas_data_mole_concentration = {\n",
    "    'nitrogen':.910,\n",
    "    'methane':89.871,\n",
    "    'carbon-dioxide':1.825,\n",
    "    'ethane':6.177,\n",
    "    'propane':0.996,\n",
    "    'iso-butane':0.091,\n",
    "    'n-butane':0.103,\n",
    "    'neo-pentane':.0,\n",
    "    'iso-pentane':.015,\n",
    "    'n-pentane':.012,\n",
    "    'hydrogen':.0,\n",
    "}"
   ]
  },
  {
   "cell_type": "code",
   "execution_count": 32,
   "id": "c24ddf19-b33e-4968-9763-9a387c45644b",
   "metadata": {},
   "outputs": [],
   "source": [
    "# use mole fraction\n",
    "zs = [val/100 for val in gas_data_mole_concentration.values()]\n",
    "assert round(sum(zs)) == 1"
   ]
  },
  {
   "cell_type": "code",
   "execution_count": 33,
   "id": "a477f8fb-3929-4657-9f0f-6bf2541da22b",
   "metadata": {},
   "outputs": [],
   "source": [
    "# prepare the flasher\n",
    "constants, properties = ChemicalConstantsPackage.from_IDs(list(gas_data_mole_concentration))\n",
    "kijs = IPDB.get_ip_asymmetric_matrix('ChemSep PR', constants.CASs, 'kij')\n",
    "eos_kwargs = {'Pcs': constants.Pcs, 'Tcs': constants.Tcs, 'omegas': constants.omegas, 'kijs': kijs}\n",
    "gas = CEOSGas(PRMIX, eos_kwargs=eos_kwargs, HeatCapacityGases=properties.HeatCapacityGases)\n",
    "liquid = CEOSLiquid(PRMIX, eos_kwargs=eos_kwargs, HeatCapacityGases=properties.HeatCapacityGases)\n",
    "flasher = FlashVL(constants, properties, liquid=liquid, gas=gas)"
   ]
  },
  {
   "cell_type": "code",
   "execution_count": 34,
   "id": "1dfc3fd8-63b0-490e-823a-a6eab3a39e10",
   "metadata": {},
   "outputs": [],
   "source": [
    "# generate streams at some given state\n",
    "base_stream = EquilibriumStream(flasher, T=273.16, P=101300, zs=zs, m=1)"
   ]
  },
  {
   "cell_type": "code",
   "execution_count": 48,
   "id": "e9ea54bd-7570-4c33-800e-44ac8716078a",
   "metadata": {},
   "outputs": [
    {
     "name": "stdout",
     "output_type": "stream",
     "text": [
      "roh_mass: 0.801==0.802\n",
      "Wobbe Superior: 14.585==14.619\n"
     ]
    }
   ],
   "source": [
    "# now we compare with data from the labor\n",
    "print(f\"roh_mass: {base_stream.rho_mass():.3f}==0.802\")\n",
    "print(f\"Wobbe Superior: {base_stream.Wobbe_index_normal()*2.77778e-7:.3f}==14.619\")"
   ]
  },
  {
   "cell_type": "markdown",
   "id": "669827c4-19b3-4591-9fd2-7acc99807fe0",
   "metadata": {},
   "source": [
    "A common problem is the joule thomson coefficient"
   ]
  },
  {
   "cell_type": "code",
   "execution_count": 45,
   "id": "3d0ee9f6-802e-480a-86c3-580d06b5ba7f",
   "metadata": {},
   "outputs": [
    {
     "name": "stdout",
     "output_type": "stream",
     "text": [
      "JT at base condition: 0.6582631302978859\n"
     ]
    }
   ],
   "source": [
    "print(f\"JT at base condition: {base_stream.Joule_Thomson()*1e5}\")"
   ]
  },
  {
   "cell_type": "markdown",
   "id": "5c7c01a8-5a70-4a82-96b3-0ac28b12980d",
   "metadata": {},
   "source": [
    "Now lets see if we can use the a state change"
   ]
  },
  {
   "cell_type": "code",
   "execution_count": 72,
   "id": "152fa081-ff9d-4e88-ae9b-aa99bebce57e",
   "metadata": {},
   "outputs": [
    {
     "name": "stdout",
     "output_type": "stream",
     "text": [
      "Feed Flow: 806.97\n",
      "Product Flow: 1559.12\n",
      "Delta T: 22.44\n",
      "Mean JT: 0.22\n"
     ]
    }
   ],
   "source": [
    "feed = EquilibriumStream(flasher, T=273.16+30, P=1.01e+7, zs=zs, m=20)\n",
    "print(f\"Feed Flow: {feed.Q*3600:.2f}\")\n",
    "# throttle\n",
    "delta_pressure = 5.0e+6\n",
    "product = EquilibriumStream(flasher, H=feed.H(), P=feed.P-delta_pressure, zs=zs, m=20)\n",
    "print(f\"Product Flow: {product.Q*3600:.2f}\")\n",
    "print(f\"Delta T: {feed.T-product.T:.2f}\")\n",
    "print(f\"Mean JT: {delta_pressure*1e-6 / (feed.T-product.T):.2f}\")"
   ]
  }
 ],
 "metadata": {
  "kernelspec": {
   "display_name": "Python 3 (ipykernel)",
   "language": "python",
   "name": "python3"
  },
  "language_info": {
   "codemirror_mode": {
    "name": "ipython",
    "version": 3
   },
   "file_extension": ".py",
   "mimetype": "text/x-python",
   "name": "python",
   "nbconvert_exporter": "python",
   "pygments_lexer": "ipython3",
   "version": "3.13.2"
  }
 },
 "nbformat": 4,
 "nbformat_minor": 5
}
